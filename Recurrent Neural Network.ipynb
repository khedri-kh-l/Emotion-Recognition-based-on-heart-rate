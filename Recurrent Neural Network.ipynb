{
 "cells": [
  {
   "cell_type": "markdown",
   "id": "2ec29442",
   "metadata": {},
   "source": [
    "## Loading Packages and Libraries"
   ]
  },
  {
   "cell_type": "code",
   "execution_count": 1,
   "id": "3b2c1570",
   "metadata": {},
   "outputs": [],
   "source": [
    "from sklearn.model_selection import train_test_split\n",
    "from sklearn.preprocessing import StandardScaler, LabelEncoder\n",
    "from sklearn.metrics import classification_report, accuracy_score\n",
    "from sklearn.preprocessing import StandardScaler\n",
    "from sklearn.ensemble import RandomForestClassifier\n",
    "from sklearn.metrics import classification_report, accuracy_score\n",
    "\n",
    "from tensorflow.keras.models import Sequential\n",
    "from tensorflow.keras.layers import LSTM, Dense, Dropout\n",
    "from tensorflow.keras.utils import to_categorical\n",
    "\n",
    "import pandas as pd\n",
    "import numpy as np\n",
    "from mpl_toolkits.mplot3d import Axes3D\n",
    "import matplotlib.pyplot as plt \n",
    "import os \n",
    "import glob\n",
    "from IPython.display import display, Markdown\n",
    "import plotly.graph_objs as go\n",
    "import plotly.offline as py\n",
    "from scipy.stats import pearsonr\n",
    "import seaborn as sns\n",
    "sns.set(style='darkgrid')"
   ]
  },
  {
   "cell_type": "markdown",
   "id": "c39d0bb3",
   "metadata": {},
   "source": [
    "## Loading Dataset and Preprocessing"
   ]
  },
  {
   "cell_type": "code",
   "execution_count": 2,
   "id": "75ae9a0d",
   "metadata": {},
   "outputs": [],
   "source": [
    "files = os.path.join(\"ER_dataset/\", \"*.csv\")\n",
    "files = glob.glob(files)\n",
    "df = pd.concat(map(pd.read_csv, files))\n",
    "df.columns = ['# condition','emotion','Feature 1','Feature 2','Feature 3','Feature 4','Feature 5','Feature 6','Feature 7']\n",
    "from sklearn.model_selection import train_test_split\n",
    "\n",
    "\n",
    "df['emotion'] = df['emotion'].map({-1:0, 0:1, 1:2})\n",
    "X = df.drop('emotion', axis=1)\n",
    "X = df.drop('# condition', axis=1)\n",
    "y = df.emotion\n",
    "\n",
    "# Preprocess the data\n",
    "# Normalize the features\n",
    "scaler = StandardScaler()\n",
    "X_scaled = scaler.fit_transform(X)\n",
    "\n",
    "# Encode emotion labels to integers (if not already encoded)\n",
    "label_encoder = LabelEncoder()\n",
    "y_encoded = label_encoder.fit_transform(y)\n",
    "\n",
    "# Convert labels to one-hot encoding\n",
    "y_onehot = to_categorical(y_encoded)\n"
   ]
  },
  {
   "cell_type": "markdown",
   "id": "8d455d85",
   "metadata": {},
   "source": [
    "## Training Process"
   ]
  },
  {
   "cell_type": "markdown",
   "id": "dd9dd2d5",
   "metadata": {},
   "source": [
    "### Function to create windows"
   ]
  },
  {
   "cell_type": "code",
   "execution_count": 3,
   "id": "c2755eb2",
   "metadata": {},
   "outputs": [],
   "source": [
    "\n",
    "def create_windows(data, labels, window_size, step_size):\n",
    "    X_windows, y_windows = [], []\n",
    "    for i in range(0, len(data) - window_size + 1, step_size):\n",
    "        X_windows.append(data[i:i + window_size])\n",
    "        y_windows.append(labels[i + window_size - 1])  # Use the last label in the window\n",
    "    return np.array(X_windows), np.array(y_windows)\n",
    "\n"
   ]
  },
  {
   "cell_type": "markdown",
   "id": "13c053ab",
   "metadata": {},
   "source": [
    "###  Buliding LSTM Model"
   ]
  },
  {
   "cell_type": "code",
   "execution_count": 6,
   "id": "6d1474a3",
   "metadata": {},
   "outputs": [],
   "source": [
    "# Model\n",
    "\n",
    "\n",
    "# Define window size and step size\n",
    "window_size = 10  # Number of time steps in each window\n",
    "step_size = 5     # Number of time steps to slide the window\n",
    "\n",
    "# Create windows for features and labels\n",
    "X_windows, y_windows = create_windows(X_scaled, y_onehot, window_size, step_size)\n",
    "\n",
    "# Split the data into training and testing sets\n",
    "X_train, X_test, y_train, y_test = train_test_split(X_windows, y_windows, test_size=0.2, random_state=42)\n",
    "\n",
    "model = Sequential()\n",
    "model.add(LSTM(64, input_shape=(window_size, X_train.shape[2]), return_sequences=False))  # LSTM layer\n",
    "model.add(Dropout(0.2))  # Dropout for regularization\n",
    "model.add(Dense(32, activation='relu'))  # Fully connected layer\n",
    "model.add(Dense(y_onehot.shape[1], activation='softmax'))  # Output layer\n",
    "\n",
    "# Compile the model\n",
    "model.compile(optimizer='adam', loss='categorical_crossentropy', metrics=['accuracy'])\n"
   ]
  },
  {
   "cell_type": "code",
   "execution_count": 7,
   "id": "f3f48e75",
   "metadata": {},
   "outputs": [
    {
     "name": "stdout",
     "output_type": "stream",
     "text": [
      "Epoch 1/2\n",
      "2596/2596 [==============================] - 37s 13ms/step - loss: 0.0198 - accuracy: 0.9950 - val_loss: 0.0019 - val_accuracy: 0.9995\n",
      "Epoch 2/2\n",
      "2596/2596 [==============================] - 31s 12ms/step - loss: 0.0014 - accuracy: 0.9997 - val_loss: 6.2634e-04 - val_accuracy: 0.9999\n"
     ]
    }
   ],
   "source": [
    "\n",
    "# Train the model\n",
    "history = model.fit(X_train, y_train, epochs=2, batch_size=32, validation_split=0.2, verbose=1)"
   ]
  },
  {
   "cell_type": "markdown",
   "id": "2a2966dd",
   "metadata": {},
   "source": [
    "## Evaluation"
   ]
  },
  {
   "cell_type": "code",
   "execution_count": 5,
   "id": "a89d8435",
   "metadata": {},
   "outputs": [
    {
     "name": "stdout",
     "output_type": "stream",
     "text": [
      "Accuracy: 0.9999229583975346\n",
      "Classification Report:\n",
      "               precision    recall  f1-score   support\n",
      "\n",
      "           0       1.00      1.00      1.00      8630\n",
      "           1       1.00      1.00      1.00      8685\n",
      "           2       1.00      1.00      1.00      8645\n",
      "\n",
      "    accuracy                           1.00     25960\n",
      "   macro avg       1.00      1.00      1.00     25960\n",
      "weighted avg       1.00      1.00      1.00     25960\n",
      "\n"
     ]
    }
   ],
   "source": [
    "# Step 6: Evaluate the model\n",
    "y_pred = model.predict(X_test)\n",
    "y_pred_classes = np.argmax(y_pred, axis=1)\n",
    "y_test_classes = np.argmax(y_test, axis=1)\n",
    "\n",
    "print(\"Accuracy:\", accuracy_score(y_test_classes, y_pred_classes))\n",
    "print(\"Classification Report:\\n\", classification_report(y_test_classes, y_pred_classes))"
   ]
  },
  {
   "cell_type": "code",
   "execution_count": null,
   "id": "e2bf2f31",
   "metadata": {},
   "outputs": [],
   "source": []
  }
 ],
 "metadata": {
  "kernelspec": {
   "display_name": "Python 3 (ipykernel)",
   "language": "python",
   "name": "python3"
  },
  "language_info": {
   "codemirror_mode": {
    "name": "ipython",
    "version": 3
   },
   "file_extension": ".py",
   "mimetype": "text/x-python",
   "name": "python",
   "nbconvert_exporter": "python",
   "pygments_lexer": "ipython3",
   "version": "3.10.6"
  }
 },
 "nbformat": 4,
 "nbformat_minor": 5
}
